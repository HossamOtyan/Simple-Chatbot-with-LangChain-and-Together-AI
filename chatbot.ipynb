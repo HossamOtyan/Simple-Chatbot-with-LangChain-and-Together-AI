{
 "cells": [
  {
   "cell_type": "code",
   "execution_count": 2,
   "id": "8b051b1b",
   "metadata": {},
   "outputs": [],
   "source": [
    "from langchain_openai import ChatOpenAI\n",
    "from langchain.memory import ConversationBufferMemory\n",
    "from langchain.prompts import ChatPromptTemplate\n",
    "from langchain.chains import LLMChain\n",
    "from langchain_core.messages import AIMessage, HumanMessage\n",
    "from langchain_together import ChatTogether"
   ]
  },
  {
   "cell_type": "code",
   "execution_count": 3,
   "id": "776f6c9c",
   "metadata": {},
   "outputs": [],
   "source": [
    "from dotenv import load_dotenv\n",
    "import os\n",
    "load_dotenv(dotenv_path=\"e.env\")\n",
    "api_key = os.getenv(\"API_KEY\")"
   ]
  },
  {
   "cell_type": "code",
   "execution_count": 22,
   "id": "a1ac9c0e",
   "metadata": {},
   "outputs": [],
   "source": [
    "llm = ChatTogether(\n",
    "    model = \"deepseek-ai/DeepSeek-V3\",\n",
    "    temperature=0.3,\n",
    "    api_key=api_key\n",
    ")"
   ]
  },
  {
   "cell_type": "code",
   "execution_count": 23,
   "id": "8c2c7f0d",
   "metadata": {},
   "outputs": [],
   "source": [
    "prompt = ChatPromptTemplate.from_template(\n",
    "    \"\"\"\n",
    "You are a helpful AI assistant having a conversation with a user. Use the context from previous messages to provide relevant and coherent responses.\n",
    "\n",
    "Previous conversation:\n",
    "{chat_history}\n",
    "\n",
    "Current user message: {user_input}\n",
    "\n",
    "Please respond naturally and helpfully, taking into account the conversation history and context.\n",
    "\"\"\")"
   ]
  },
  {
   "cell_type": "code",
   "execution_count": 24,
   "id": "853e5d33",
   "metadata": {},
   "outputs": [],
   "source": [
    "memory = ConversationBufferMemory(\n",
    "    memory_key=\"chat_history\",\n",
    "    return_messages=True\n",
    ")"
   ]
  },
  {
   "cell_type": "code",
   "execution_count": 26,
   "id": "ddd3ac6e",
   "metadata": {},
   "outputs": [
    {
     "name": "stderr",
     "output_type": "stream",
     "text": [
      "C:\\Users\\Hossam\\AppData\\Local\\Temp\\ipykernel_6880\\410564089.py:1: LangChainDeprecationWarning: The class `LLMChain` was deprecated in LangChain 0.1.17 and will be removed in 1.0. Use :meth:`~RunnableSequence, e.g., `prompt | llm`` instead.\n",
      "  chain = LLMChain(\n"
     ]
    }
   ],
   "source": [
    "chain = LLMChain(\n",
    "    llm=llm,\n",
    "    memory=memory,\n",
    "    prompt=prompt\n",
    ")"
   ]
  },
  {
   "cell_type": "code",
   "execution_count": 27,
   "id": "af801f13",
   "metadata": {},
   "outputs": [
    {
     "name": "stderr",
     "output_type": "stream",
     "text": [
      "C:\\Users\\Hossam\\AppData\\Local\\Temp\\ipykernel_6880\\3352919175.py:5: LangChainDeprecationWarning: The method `Chain.run` was deprecated in langchain 0.1.0 and will be removed in 1.0. Use :meth:`~invoke` instead.\n",
      "  result = chain.run({\"user_input\":user_input})\n"
     ]
    },
    {
     "name": "stdout",
     "output_type": "stream",
     "text": [
      "user: hi\n",
      "AI: Hi there! How can I help you today? 😊\n",
      "--------------------------------------------------\n",
      "user: hi\n",
      "AI: Hi again! Is there anything specific you'd like help with, or are you just saying hello? 😊 Either way, I'm here for you!\n",
      "--------------------------------------------------\n"
     ]
    }
   ],
   "source": [
    "while True:\n",
    "    user_input = input(\"Enter Your Massage\")\n",
    "    if user_input.lower() in [\"close\",\"cansel\",\"خروج\"]:\n",
    "        break\n",
    "    result = chain.run({\"user_input\":user_input})\n",
    "    print(f\"user: {user_input}\")\n",
    "    print(f\"AI: {result}\")\n",
    "    print(\"-\" *50)\n"
   ]
  },
  {
   "cell_type": "code",
   "execution_count": null,
   "id": "87ca551a",
   "metadata": {},
   "outputs": [],
   "source": []
  }
 ],
 "metadata": {
  "kernelspec": {
   "display_name": "base",
   "language": "python",
   "name": "python3"
  },
  "language_info": {
   "codemirror_mode": {
    "name": "ipython",
    "version": 3
   },
   "file_extension": ".py",
   "mimetype": "text/x-python",
   "name": "python",
   "nbconvert_exporter": "python",
   "pygments_lexer": "ipython3",
   "version": "3.12.7"
  }
 },
 "nbformat": 4,
 "nbformat_minor": 5
}
